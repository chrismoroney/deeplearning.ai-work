{
 "cells": [
  {
   "cell_type": "markdown",
   "metadata": {},
   "source": [
    "## Confidence Intervals"
   ]
  },
  {
   "cell_type": "markdown",
   "metadata": {},
   "source": [
    "In this section you will learn more about **Confidence Intervals** taught to you thus far in the course. "
   ]
  },
  {
   "cell_type": "markdown",
   "metadata": {},
   "source": [
    "## Table of Contents\n",
    "  \n",
    "- [1. Introduction](#Intro)  \n",
    "- [2. Import Libraries](#Import)\n",
    "- [3. Create Dataset Sample](#data)\n",
    "- [4. Confidence Interval](#Conf-Int)\n",
    "- [5. Histograms and Curves](#Hists)\n",
    "- [6. Standard Deviation](#St-dev)\n",
    "    - [6.1. 68 95 99 Rule](#rule)\n",
    "- [7. Visualizing Confidence Intervals](#Visual-Conf)\n",
    "- [8. Medical Scenario](#med)"
   ]
  },
  {
   "cell_type": "markdown",
   "metadata": {},
   "source": [
    "<a name = \"Intro\"></a>\n",
    "## Introduction"
   ]
  },
  {
   "cell_type": "markdown",
   "metadata": {},
   "source": [
    "In the medical field, sometimes it is impractical to collect data from an entire population. Sometimes it can be dangerous, especially in a time like the COVID-19 pandemic in the year 2020. In these particular cases, we can use **Confidence Intervals** to create assumptions about the whole population. In this lab, we will generate a small set of data that will act as our sample, and we will calculate a confidence interval that can be made for a general population. We also will look at a histogram, a type of statistical plot used for grouping data, as well as a Gaussian curve and standard deviations and how that is relevant to our calculations. We will tie this altogether by visualizing a confidence interval on a graph, and what this means in the medical field, and how AI can be trained from this sample."
   ]
  },
  {
   "cell_type": "markdown",
   "metadata": {},
   "source": [
    "<a name = \"Import\"></a>\n",
    "## Import Libraries"
   ]
  },
  {
   "cell_type": "markdown",
   "metadata": {},
   "source": [
    "We'll make use of the following packages:\n",
    "- `numpy` is what we'll use to manipulate our data\n",
    "- `matplotlib.pyplolt` to support with producing graphs and visuals\n",
    "- `scipy.stats` will be used to help calculate the confidence interval and produce a Gaussian distribution curve\n",
    "- `scikit-learn` will be used to support creation of our sample data\n",
    "\n",
    "Run the next cell to import all the necessary packages."
   ]
  },
  {
   "cell_type": "code",
   "execution_count": 147,
   "metadata": {},
   "outputs": [],
   "source": [
    "#import numpy and matplot libraries\n",
    "import numpy as np\n",
    "import matplotlib.pyplot as plt\n",
    "from scipy.stats import sem, t, norm\n",
    "from sklearn import datasets"
   ]
  },
  {
   "cell_type": "markdown",
   "metadata": {},
   "source": [
    "<a name = \"data\"></a>\n",
    "## Create Dataset Sample"
   ]
  },
  {
   "cell_type": "markdown",
   "metadata": {},
   "source": [
    "We are going to create a dataset using the make_blobs dataset. The dataset is randomly generated around a particular center with a provided number of features and samples. We will use 100 samples in our dataset with two features per sample. Normally, a medical dataset would have more than 100 pieces of data, but we are going to simulate only using a **sample**, or small, randomized selection of the total population."
   ]
  },
  {
   "cell_type": "code",
   "execution_count": 148,
   "metadata": {},
   "outputs": [],
   "source": [
    "data, target = datasets.make_blobs(n_samples=100, centers=2, n_features=2, random_state=1, cluster_std=3)\n",
    "data1 = np.array(data[:,0])\n",
    "data2 = np.array(data[:,1])"
   ]
  },
  {
   "cell_type": "markdown",
   "metadata": {},
   "source": [
    "For simplicity's sake, we are going to split the dataset by column (one column or array per dimension), which is shown with **data1** and **data2**. This will help us in the graphical representation"
   ]
  },
  {
   "cell_type": "markdown",
   "metadata": {},
   "source": [
    "<a name = \"Conf-Int\"></a>\n",
    "## Confidence Interval"
   ]
  },
  {
   "cell_type": "markdown",
   "metadata": {},
   "source": [
    "The **Confidence Interval** is defined as the range of values in which a parameter (most likely the mean) has a probablity  of being in. The confidence interval is usually between 0 and 1, and covers the range of either the entire dataset, none of the dataset, or a part of the dataset. You will visually see what a Confidence Interval looks like on a graph later in the notebook. "
   ]
  },
  {
   "cell_type": "markdown",
   "metadata": {},
   "source": [
    "Adjust the confidence interval below, varying the values between 0 and 1. What is the effect of the range of the array?"
   ]
  },
  {
   "cell_type": "code",
   "execution_count": 149,
   "metadata": {},
   "outputs": [
    {
     "data": {
      "text/plain": [
       "(array([-3.40071967, -3.50010009]), array([-1.57889683, -1.47951641]))"
      ]
     },
     "execution_count": 149,
     "metadata": {},
     "output_type": "execute_result"
    }
   ],
   "source": [
    "# Adjust the confidence interval (between 0 and 1), and notice the effects on the range of the arrays below\n",
    "confidence_level = 0.95\n",
    "# Run the cell and observe the matricies.\n",
    "degrees_freedom = data.size - 1\n",
    "sample_mean = np.mean(data)\n",
    "sample_standard_error = sem(data)\n",
    "\n",
    "confidence_interval = t.interval(confidence_level, degrees_freedom, sample_mean, sample_standard_error)\n",
    "confidence_interval"
   ]
  },
  {
   "cell_type": "markdown",
   "metadata": {},
   "source": [
    "Note that even though when confidence_level = 1, you may expect \"[-inf, inf]\" but recieve \"[-inf, -inf]\". This is only because the range of values always appears negative in the upper bound, so the upper bound just appears negative instead of positive. The same appears for the lower bound being positive of the second array. "
   ]
  },
  {
   "cell_type": "markdown",
   "metadata": {},
   "source": [
    "By adjusting the confidence interval between 0 and 1, you should notice the following:\n",
    "- As the confidence interval decreases towards 0, the range of values should approach one single value.\n",
    "- As the confidence interval increases towards 1, the range of values should expand and approach positive and negative infinity"
   ]
  },
  {
   "cell_type": "markdown",
   "metadata": {},
   "source": [
    "Why does the range behave this way as the confidence interval changes?\n",
    "\n",
    "Recall the definition of a Confidence Interval above. We are focusing on the array of values in there is a probability that the mean is in. The confidence interval is the probablity itself. Therefore, if our confidence interval is 1, we are saying there is a 100% probability that the mean of the dataset is in between two parameters, thus the confidence interval would expand over two values that cover the all of the dataset. \n",
    "\n",
    "We are saying \"*we are 100% confident that the mean lies in between these two values*\". \n",
    "\n",
    "The same can be said when our confidence interval is 0, we are saying that we are not very confident at all that our mean lies in between two values, but those two values would be much more defined. \n",
    "\n",
    "\"*With 0% confidence, the mean lies in between these two values*\". \n",
    "\n",
    "The effect of this is that as confidence interval increases, the area that the interval covers on a graph increases, and the range of values increases as well. "
   ]
  },
  {
   "cell_type": "markdown",
   "metadata": {},
   "source": [
    "<a name = \"Hists\"></a>\n",
    "## Histograms and Curves"
   ]
  },
  {
   "cell_type": "markdown",
   "metadata": {},
   "source": [
    "**Histograms** are graphical representations of data that groups data into numerical categories. We use this style of graph for the purpose of grouping data, opposed to just plotting each individual point. The grouped sections are shown in bars, which are plotted with a given area. This area differs from each group with its height, as the width is the same from each group (defined boundaries of each group). "
   ]
  },
  {
   "cell_type": "markdown",
   "metadata": {},
   "source": [
    "Below are 3 different plots of data: one for all data points of the first feature, one for the second feature, and one plot with both features with two different colors. Experiment with the histograms by changing the value of the \"bins\" value in each histogram."
   ]
  },
  {
   "cell_type": "code",
   "execution_count": 150,
   "metadata": {},
   "outputs": [
    {
     "data": {
      "image/png": "[encoded data removed]",
      "text/plain": [
       "<Figure size 432x288 with 1 Axes>"
      ]
     },
     "metadata": {
      "needs_background": "light"
     },
     "output_type": "display_data"
    }
   ],
   "source": [
    "# Change the value of bins for any positive value, 10 is default\n",
    "bins = 10\n",
    "\n",
    "# Run the cell to see the histogram\n",
    "plt.hist(data1, bins=bins, alpha=0.5, edgecolor='black', linewidth=1.5)\n",
    "plt.title('Histogram of Feature 1')\n",
    "plt.xlabel(\"Feature 1 Value\")\n",
    "plt.ylabel(\"Quantity\")\n",
    "plt.show()"
   ]
  },
  {
   "cell_type": "code",
   "execution_count": 151,
   "metadata": {},
   "outputs": [
    {
     "data": {
      "image/png": "[encoded data removed]",
      "text/plain": [
       "<Figure size 432x288 with 1 Axes>"
      ]
     },
     "metadata": {
      "needs_background": "light"
     },
     "output_type": "display_data"
    }
   ],
   "source": [
    "# Change the value of bins for any positive value, 10 is default\n",
    "bins = 10\n",
    "\n",
    "# Run the cell to see the histogram\n",
    "plt.hist(data2, bins=bins, alpha=0.5, edgecolor='black', linewidth=1.5)\n",
    "plt.title('Histogram of Feature 2')\n",
    "plt.xlabel(\"Feature 2 Value\")\n",
    "plt.ylabel(\"Quantity\")\n",
    "plt.show()"
   ]
  },
  {
   "cell_type": "code",
   "execution_count": 152,
   "metadata": {},
   "outputs": [
    {
     "data": {
      "image/png": "[encoded data removed]",
      "text/plain": [
       "<Figure size 432x288 with 1 Axes>"
      ]
     },
     "metadata": {
      "needs_background": "light"
     },
     "output_type": "display_data"
    }
   ],
   "source": [
    "# Change the value of bins for any positive value, 10 is default\n",
    "bins = 10\n",
    "\n",
    "# Run the cell to see the histogram\n",
    "plt.hist(data, bins=bins, color=[\"blue\", \"orange\"], label={\"Feature 1\", \"Feature 2\"}, alpha = 0.8, edgecolor='black', linewidth=1.5)\n",
    "plt.title('Histogram of Features 1 and 2')\n",
    "plt.xlabel(\"Feature Values\")\n",
    "plt.ylabel(\"Quantity\")\n",
    "plt.legend(loc=\"upper right\")\n",
    "plt.show()"
   ]
  },
  {
   "cell_type": "markdown",
   "metadata": {},
   "source": [
    "The following curves below show a **Gaussian distribution** (or normal distribution / bell curve) fitted to each histograms. This type of curve is applicable to many different scenario in statistical measures because of the shape. Oberve each Gaussian distribution below. How are each of the curves below different?"
   ]
  },
  {
   "cell_type": "code",
   "execution_count": 153,
   "metadata": {},
   "outputs": [
    {
     "data": {
      "text/plain": [
       "[<matplotlib.lines.Line2D at 0x2b049d87948>]"
      ]
     },
     "execution_count": 153,
     "metadata": {},
     "output_type": "execute_result"
    },
    {
     "data": {
      "image/png": "[encoded data removed]",
      "text/plain": [
       "<Figure size 432x288 with 1 Axes>"
      ]
     },
     "metadata": {
      "needs_background": "light"
     },
     "output_type": "display_data"
    }
   ],
   "source": [
    "_, bins, _ = plt.hist(data1, 10, density=1, alpha=0.5, edgecolor='black', linewidth=1.5)\n",
    "mu, sigma = norm.fit(data1)\n",
    "best_fit_line = norm.pdf(bins, mu, sigma)\n",
    "plt.xlabel('Feature 1 Value')\n",
    "plt.ylabel('Percentage of dataset')\n",
    "plt.title('Histogram and Curve of Feature 1')\n",
    "plt.plot(bins, best_fit_line)"
   ]
  },
  {
   "cell_type": "code",
   "execution_count": 154,
   "metadata": {},
   "outputs": [
    {
     "data": {
      "text/plain": [
       "[<matplotlib.lines.Line2D at 0x2b049d1dd48>]"
      ]
     },
     "execution_count": 154,
     "metadata": {},
     "output_type": "execute_result"
    },
    {
     "data": {
      "image/png": "[encoded data removed]",
      "text/plain": [
       "<Figure size 432x288 with 1 Axes>"
      ]
     },
     "metadata": {
      "needs_background": "light"
     },
     "output_type": "display_data"
    }
   ],
   "source": [
    "_, bins, _ = plt.hist(data2, 10, density=1, alpha=0.5, edgecolor='black', linewidth=1.5)\n",
    "mu, sigma = norm.fit(data2)\n",
    "best_fit_line = norm.pdf(bins, mu, sigma)\n",
    "plt.xlabel('Feature 2 Value')\n",
    "plt.ylabel('Percentage of dataset')\n",
    "plt.title('Histogram and Curve of Feature 2')\n",
    "plt.plot(bins, best_fit_line)"
   ]
  },
  {
   "cell_type": "markdown",
   "metadata": {},
   "source": [
    "<a name = \"St-dev\"></a>\n",
    "## Standard Deviation"
   ]
  },
  {
   "cell_type": "markdown",
   "metadata": {},
   "source": [
    "A **standard deviation** is a metric that defines the amount of difference and variance in the data. In general, low standard deviation means that the majority of the data is closely packed together, while a high standard deviation shows the data being very spread out. Standard deviations are important for knowing how much dispersion there is throughout the data, and has a direct relationship with our confidence interval."
   ]
  },
  {
   "cell_type": "markdown",
   "metadata": {},
   "source": [
    "Here is the equation for a standard deviation:\n",
    "\n",
    "$$ \\sigma =\t\\sqrt{\\frac{\\sum{(x_{i} + \\mu)} ^ 2}{ N}} $$\n",
    "\n",
    "The definitions of each variable are the following:\n",
    "\n",
    "$$ \\sigma = \\text{standard deviation} $$\n",
    "\n",
    "$$ N = \\text{size of the dataset or sample} $$\n",
    "\n",
    "$$ x_{i} = \\text{each value from the dataset or sample} $$\n",
    "\n",
    "$$ \\mu = \\text{mean of the dataset or sample} $$"
   ]
  },
  {
   "cell_type": "markdown",
   "metadata": {},
   "source": [
    "We can use <a href=\"https://numpy.org/doc/stable/reference/generated/numpy.std.html\" > np.std() </a> to automatically calculate our standard deviation. \n",
    "We will insert each dimension into the np.std to calculate the standard deviation per dimension."
   ]
  },
  {
   "cell_type": "code",
   "execution_count": 155,
   "metadata": {},
   "outputs": [],
   "source": [
    "std1 = np.std(data1)\n",
    "std2 = np.std(data2)"
   ]
  },
  {
   "cell_type": "code",
   "execution_count": 156,
   "metadata": {},
   "outputs": [
    {
     "name": "stdout",
     "output_type": "stream",
     "text": [
      "standard deviation for feature 1: \n",
      "4.596173386775957\n"
     ]
    }
   ],
   "source": [
    "print(\"standard deviation for feature 1: \" )\n",
    "print(std1)"
   ]
  },
  {
   "cell_type": "code",
   "execution_count": 157,
   "metadata": {},
   "outputs": [
    {
     "name": "stdout",
     "output_type": "stream",
     "text": [
      "standard deviation for feature 2: \n",
      "5.0976158255607\n"
     ]
    }
   ],
   "source": [
    "print(\"standard deviation for feature 2: \" )\n",
    "print(std2)"
   ]
  },
  {
   "cell_type": "markdown",
   "metadata": {},
   "source": [
    "Based on these standard deviations we can see that both datasets are relatively spread out, and the amount of separation between groups of values is about 4.6 in the set of the first feature, and 5.1 for the set of the second feature. Despite being relatively similar, we can see that the distribution of data in the set of the second feature is slightly more *spread out* than that of the first feature."
   ]
  },
  {
   "cell_type": "markdown",
   "metadata": {},
   "source": [
    "<a name = \"rule\"></a>\n",
    "## 68 - 95 - 99 Rule"
   ]
  },
  {
   "cell_type": "markdown",
   "metadata": {},
   "source": [
    "The 68 - 95 - 99 Rule states that in a normal distribution (or bell curve), from the 1 standard deviation in the positive and negative direction from the mean contains 68% of the data in the dataset. 2 standard devaitions away contain 95% of the data, and 99% of the data is contained within 3 standard deviations. "
   ]
  },
  {
   "cell_type": "markdown",
   "metadata": {},
   "source": [
    "<img src=\"normal_curve.png\"/>"
   ]
  },
  {
   "cell_type": "markdown",
   "metadata": {},
   "source": [
    "You should see that in this particular curve and shadded region that between 95% and 99% of the data is contained within the shadded region. "
   ]
  },
  {
   "cell_type": "markdown",
   "metadata": {},
   "source": [
    "<a name = \"Visual-Conf\"></a>\n",
    "## Visualizing the Confidence Interval"
   ]
  },
  {
   "cell_type": "markdown",
   "metadata": {},
   "source": [
    "Here is a visualization for the confidence interval that was covered before. Note that the red vertical line represents the lower bound, and the orange line represents the upper bound of the confidence interval. Manipulate the confidence interval to see the effect of varying the confidence interval (between 0 and 1)."
   ]
  },
  {
   "cell_type": "code",
   "execution_count": 158,
   "metadata": {},
   "outputs": [
    {
     "name": "stdout",
     "output_type": "stream",
     "text": [
      "sample mean: 0.22981007647290183\n",
      "\n",
      "standard deviation: 5.0976158255607\n",
      "\n",
      "confidence interval range: (-9.761333348647485, 10.220953501593288)\n",
      "\n",
      "number of deviations from mean: 1.9599639845400538\n",
      "\n",
      "With 95.0% confidence, the population mean is this range: (-9.761333348647485, 10.220953501593288)\n"
     ]
    },
    {
     "data": {
      "image/png": "[encoded data removed]",
      "text/plain": [
       "<Figure size 432x288 with 1 Axes>"
      ]
     },
     "metadata": {
      "needs_background": "light"
     },
     "output_type": "display_data"
    }
   ],
   "source": [
    "# Manipulate the confidence_interval between 0 and 1\n",
    "confidence_interval = 0.95\n",
    "\n",
    "# adjust the height on the lines of the confidence interval (as needed)\n",
    "height = 20\n",
    "\n",
    "# choose either to use data1 or data2\n",
    "choice_data = data2\n",
    "\n",
    "# vary the number of bins as you would like for the histogram\n",
    "bins = 10\n",
    "\n",
    "# Run the cell to see the confidence interval\n",
    "\n",
    "_ = plt.hist(choice_data, bins=bins, edgecolor='black', linewidth=1.5)\n",
    "\n",
    "sigma=np.std(choice_data)\n",
    "mean=np.mean(choice_data)\n",
    "ci = norm.interval(confidence_interval, loc=mean, scale=sigma)\n",
    "\n",
    "numDevs = abs((ci[1] - mean) / sigma)\n",
    "\n",
    "print(\"sample mean: \" + str(mean))\n",
    "print()\n",
    "print(\"standard deviation: \" + str(sigma))\n",
    "print()\n",
    "print(\"confidence interval range: \" + str(ci))\n",
    "print()\n",
    "print(\"number of deviations from mean: \" + str(numDevs))\n",
    "\n",
    "# confidence interval left line\n",
    "one_x12, one_y12 = [ci[0],ci[0]], [0, height]\n",
    "# confidence interval right line\n",
    "two_x12, two_y12 = [ci[1],ci[1]], [0, height]\n",
    "\n",
    "plt.plot(one_x12, one_y12, two_x12, two_y12)\n",
    "plt.xlabel(\"Feature's value\")\n",
    "plt.ylabel(\"Quantity of feature's group\")\n",
    "print()\n",
    "print(\"With \" + str(confidence_interval * 100) + \"% confidence, the population mean is this range: \" + str(ci))"
   ]
  },
  {
   "cell_type": "markdown",
   "metadata": {},
   "source": [
    "<a name = \"med\"></a>\n",
    "## Medical Scenario"
   ]
  },
  {
   "cell_type": "markdown",
   "metadata": {},
   "source": [
    "For the medical field, confidence intervals are very important in order to generalize data without having to spend extreme amounts of time or money generating data altogether. We generate confidence intervals from our samples. Like mentioned in the lectures, sometimes we gather smaller samples so that we don't collect data from the entire population. Instead, we can take a small sample, such as only 100 patients, and make a generalization for the whole population. Confidence intervals allow us to generalize the whole population's metrics only using a small sample's worth. While perhaps not as accurate, we can have a high level of confidence that our metrics for the whole population will be contained in our sample. This is how AI in medicine can generate metrics and performance without needing to train the model without an entire dataset. \n",
    "\n",
    "For instance, if we have a hospital with 1000 patients, suspected to possibly have the COVID-19 disease, it is unlikely that a data collection team can collect data on all 1000 patients. Instead, what the team may do is collect a sample, such as of 50, 100, or even 200 patients, and make a generalization on the feature that determines if a patient has COVID-19. Suppose that from the data collected from 100 patients, 50 of the patients have the disease, while 50 don't. Suppose that the sample mean of patients containing the disease has a body temperature of 101 degrees. Using confidence intervals, we can say with an amount of confidence that the mean for the whole population is somewhat near to 101 degrees. "
   ]
  },
  {
   "cell_type": "markdown",
   "metadata": {},
   "source": [
    "## Great Job!\n",
    "\n",
    "You now know more about confidence intervals and their relevance to statistical data. We can see that confidence intervals allow us to make assumptions and metrics to the whole population using only a sample. Using confidence intervals will be very beneficial for training our model because we won't need an entire dataset to find particular metrics. "
   ]
  }
 ],
 "metadata": {
  "kernelspec": {
   "display_name": "Python 3",
   "language": "python",
   "name": "python3"
  },
  "language_info": {
   "codemirror_mode": {
    "name": "ipython",
    "version": 3
   },
   "file_extension": ".py",
   "mimetype": "text/x-python",
   "name": "python",
   "nbconvert_exporter": "python",
   "pygments_lexer": "ipython3",
   "version": "3.7.6"
  }
 },
 "nbformat": 4,
 "nbformat_minor": 4
}
